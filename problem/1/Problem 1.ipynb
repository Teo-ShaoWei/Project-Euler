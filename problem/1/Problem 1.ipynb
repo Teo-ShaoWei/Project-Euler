{
 "cells": [
  {
   "cell_type": "markdown",
   "metadata": {
    "format": "row",
    "hide_input": false
   },
   "source": [
    "If we list all the natural numbers below $10$ that are multiples of $3$ or $5$, we get $3$, $5$, $6$ and $9$.\n",
    "The sum of these multiples is $23$.\n",
    "\n",
    "Find the sum of all the multiples of $3$ or $5$ below $1000$."
   ]
  }
 ],
 "metadata": {
  "kernelspec": {
   "display_name": "Julia 0.5.0",
   "language": "julia",
   "name": "julia-0.5"
  },
  "language_info": {
   "file_extension": ".jl",
   "mimetype": "application/julia",
   "name": "julia",
   "version": "0.5.0"
  },
  "toc": {
   "nav_menu": {
    "height": "30px",
    "width": "252px"
   },
   "navigate_menu": true,
   "number_sections": true,
   "sideBar": true,
   "threshold": 4,
   "toc_cell": false,
   "toc_section_display": "block",
   "toc_window_display": false
  }
 },
 "nbformat": 4,
 "nbformat_minor": 0
}
